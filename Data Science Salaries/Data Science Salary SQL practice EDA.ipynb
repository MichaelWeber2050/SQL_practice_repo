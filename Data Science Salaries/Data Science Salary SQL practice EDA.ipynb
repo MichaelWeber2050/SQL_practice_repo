{
 "cells": [
  {
   "cell_type": "code",
   "execution_count": 1,
   "id": "bdf98451",
   "metadata": {},
   "outputs": [
    {
     "data": {
      "text/plain": [
       "(3755, 11)"
      ]
     },
     "execution_count": 1,
     "metadata": {},
     "output_type": "execute_result"
    }
   ],
   "source": [
    "import pandas as pd\n",
    "\n",
    "salaries_df = pd.read_csv('ds_salaries.csv')\n",
    "salaries_df.shape"
   ]
  },
  {
   "cell_type": "code",
   "execution_count": 2,
   "id": "77fed347",
   "metadata": {},
   "outputs": [
    {
     "data": {
      "text/html": [
       "<div>\n",
       "<style scoped>\n",
       "    .dataframe tbody tr th:only-of-type {\n",
       "        vertical-align: middle;\n",
       "    }\n",
       "\n",
       "    .dataframe tbody tr th {\n",
       "        vertical-align: top;\n",
       "    }\n",
       "\n",
       "    .dataframe thead th {\n",
       "        text-align: right;\n",
       "    }\n",
       "</style>\n",
       "<table border=\"1\" class=\"dataframe\">\n",
       "  <thead>\n",
       "    <tr style=\"text-align: right;\">\n",
       "      <th></th>\n",
       "      <th>work_year</th>\n",
       "      <th>experience_level</th>\n",
       "      <th>employment_type</th>\n",
       "      <th>job_title</th>\n",
       "      <th>salary</th>\n",
       "      <th>salary_currency</th>\n",
       "      <th>salary_in_usd</th>\n",
       "      <th>employee_residence</th>\n",
       "      <th>remote_ratio</th>\n",
       "      <th>company_location</th>\n",
       "      <th>company_size</th>\n",
       "    </tr>\n",
       "  </thead>\n",
       "  <tbody>\n",
       "    <tr>\n",
       "      <th>0</th>\n",
       "      <td>2023</td>\n",
       "      <td>SE</td>\n",
       "      <td>FT</td>\n",
       "      <td>Principal Data Scientist</td>\n",
       "      <td>80000</td>\n",
       "      <td>EUR</td>\n",
       "      <td>85847</td>\n",
       "      <td>ES</td>\n",
       "      <td>100</td>\n",
       "      <td>ES</td>\n",
       "      <td>L</td>\n",
       "    </tr>\n",
       "    <tr>\n",
       "      <th>1</th>\n",
       "      <td>2023</td>\n",
       "      <td>MI</td>\n",
       "      <td>CT</td>\n",
       "      <td>ML Engineer</td>\n",
       "      <td>30000</td>\n",
       "      <td>USD</td>\n",
       "      <td>30000</td>\n",
       "      <td>US</td>\n",
       "      <td>100</td>\n",
       "      <td>US</td>\n",
       "      <td>S</td>\n",
       "    </tr>\n",
       "    <tr>\n",
       "      <th>2</th>\n",
       "      <td>2023</td>\n",
       "      <td>MI</td>\n",
       "      <td>CT</td>\n",
       "      <td>ML Engineer</td>\n",
       "      <td>25500</td>\n",
       "      <td>USD</td>\n",
       "      <td>25500</td>\n",
       "      <td>US</td>\n",
       "      <td>100</td>\n",
       "      <td>US</td>\n",
       "      <td>S</td>\n",
       "    </tr>\n",
       "    <tr>\n",
       "      <th>3</th>\n",
       "      <td>2023</td>\n",
       "      <td>SE</td>\n",
       "      <td>FT</td>\n",
       "      <td>Data Scientist</td>\n",
       "      <td>175000</td>\n",
       "      <td>USD</td>\n",
       "      <td>175000</td>\n",
       "      <td>CA</td>\n",
       "      <td>100</td>\n",
       "      <td>CA</td>\n",
       "      <td>M</td>\n",
       "    </tr>\n",
       "    <tr>\n",
       "      <th>4</th>\n",
       "      <td>2023</td>\n",
       "      <td>SE</td>\n",
       "      <td>FT</td>\n",
       "      <td>Data Scientist</td>\n",
       "      <td>120000</td>\n",
       "      <td>USD</td>\n",
       "      <td>120000</td>\n",
       "      <td>CA</td>\n",
       "      <td>100</td>\n",
       "      <td>CA</td>\n",
       "      <td>M</td>\n",
       "    </tr>\n",
       "  </tbody>\n",
       "</table>\n",
       "</div>"
      ],
      "text/plain": [
       "   work_year experience_level employment_type                 job_title  \\\n",
       "0       2023               SE              FT  Principal Data Scientist   \n",
       "1       2023               MI              CT               ML Engineer   \n",
       "2       2023               MI              CT               ML Engineer   \n",
       "3       2023               SE              FT            Data Scientist   \n",
       "4       2023               SE              FT            Data Scientist   \n",
       "\n",
       "   salary salary_currency  salary_in_usd employee_residence  remote_ratio  \\\n",
       "0   80000             EUR          85847                 ES           100   \n",
       "1   30000             USD          30000                 US           100   \n",
       "2   25500             USD          25500                 US           100   \n",
       "3  175000             USD         175000                 CA           100   \n",
       "4  120000             USD         120000                 CA           100   \n",
       "\n",
       "  company_location company_size  \n",
       "0               ES            L  \n",
       "1               US            S  \n",
       "2               US            S  \n",
       "3               CA            M  \n",
       "4               CA            M  "
      ]
     },
     "execution_count": 2,
     "metadata": {},
     "output_type": "execute_result"
    }
   ],
   "source": [
    "salaries_df.head()"
   ]
  },
  {
   "cell_type": "code",
   "execution_count": 4,
   "id": "97fc7cfa",
   "metadata": {},
   "outputs": [
    {
     "name": "stdout",
     "output_type": "stream",
     "text": [
      "<class 'pandas.core.frame.DataFrame'>\n",
      "RangeIndex: 3755 entries, 0 to 3754\n",
      "Data columns (total 11 columns):\n",
      " #   Column              Non-Null Count  Dtype \n",
      "---  ------              --------------  ----- \n",
      " 0   work_year           3755 non-null   int64 \n",
      " 1   experience_level    3755 non-null   object\n",
      " 2   employment_type     3755 non-null   object\n",
      " 3   job_title           3755 non-null   object\n",
      " 4   salary              3755 non-null   int64 \n",
      " 5   salary_currency     3755 non-null   object\n",
      " 6   salary_in_usd       3755 non-null   int64 \n",
      " 7   employee_residence  3755 non-null   object\n",
      " 8   remote_ratio        3755 non-null   int64 \n",
      " 9   company_location    3755 non-null   object\n",
      " 10  company_size        3755 non-null   object\n",
      "dtypes: int64(4), object(7)\n",
      "memory usage: 322.8+ KB\n"
     ]
    }
   ],
   "source": [
    "salaries_df.info()"
   ]
  },
  {
   "cell_type": "code",
   "execution_count": 6,
   "id": "36b7733f",
   "metadata": {},
   "outputs": [
    {
     "name": "stdout",
     "output_type": "stream",
     "text": [
      "Longest length is:\n",
      " 2\n"
     ]
    }
   ],
   "source": [
    "# find the longest string in the experience_level column to determine the proper data type to use in creating the table\n",
    "\n",
    "# Returning the longest length\n",
    "print(\"Longest length is:\\n\",salaries_df.experience_level.str.len().max())\n"
   ]
  },
  {
   "cell_type": "code",
   "execution_count": 7,
   "id": "8b18ddc6",
   "metadata": {},
   "outputs": [
    {
     "data": {
      "text/plain": [
       "array(['SE', 'MI', 'EN', 'EX'], dtype=object)"
      ]
     },
     "execution_count": 7,
     "metadata": {},
     "output_type": "execute_result"
    }
   ],
   "source": [
    "salaries_df.experience_level.unique()"
   ]
  },
  {
   "cell_type": "code",
   "execution_count": 8,
   "id": "96107999",
   "metadata": {},
   "outputs": [
    {
     "name": "stdout",
     "output_type": "stream",
     "text": [
      "Longest length is:\n",
      " 2\n"
     ]
    }
   ],
   "source": [
    "# Returning the longest length\n",
    "print(\"Longest length is:\\n\",salaries_df.employment_type.str.len().max())\n"
   ]
  },
  {
   "cell_type": "code",
   "execution_count": 10,
   "id": "822f6312",
   "metadata": {},
   "outputs": [
    {
     "data": {
      "text/plain": [
       "array(['FT', 'CT', 'FL', 'PT'], dtype=object)"
      ]
     },
     "execution_count": 10,
     "metadata": {},
     "output_type": "execute_result"
    }
   ],
   "source": [
    "salaries_df.employment_type.unique()"
   ]
  },
  {
   "cell_type": "code",
   "execution_count": 11,
   "id": "522c12b8",
   "metadata": {},
   "outputs": [
    {
     "name": "stdout",
     "output_type": "stream",
     "text": [
      "Longest length is:\n",
      " 3\n"
     ]
    }
   ],
   "source": [
    "# Returning the longest length\n",
    "print(\"Longest length is:\\n\",salaries_df.salary_currency.str.len().max())\n"
   ]
  },
  {
   "cell_type": "code",
   "execution_count": 12,
   "id": "97e37a2e",
   "metadata": {},
   "outputs": [
    {
     "name": "stdout",
     "output_type": "stream",
     "text": [
      "Longest length is:\n",
      " 2\n"
     ]
    }
   ],
   "source": [
    "print(\"Longest length is:\\n\",salaries_df.employee_residence.str.len().max())\n"
   ]
  },
  {
   "cell_type": "code",
   "execution_count": 16,
   "id": "aa3969ad",
   "metadata": {},
   "outputs": [
    {
     "name": "stdout",
     "output_type": "stream",
     "text": [
      "The max is:\n",
      " 100\n"
     ]
    }
   ],
   "source": [
    "print(\"The max is:\\n\",salaries_df.remote_ratio.max())\n"
   ]
  },
  {
   "cell_type": "code",
   "execution_count": 17,
   "id": "43caaf8e",
   "metadata": {},
   "outputs": [
    {
     "name": "stdout",
     "output_type": "stream",
     "text": [
      "Longest length is:\n",
      " 2\n"
     ]
    }
   ],
   "source": [
    "print(\"Longest length is:\\n\",salaries_df.company_location.str.len().max())\n"
   ]
  },
  {
   "cell_type": "code",
   "execution_count": 19,
   "id": "35c6a970",
   "metadata": {},
   "outputs": [
    {
     "name": "stdout",
     "output_type": "stream",
     "text": [
      "Longest length is:\n",
      " 1\n"
     ]
    }
   ],
   "source": [
    "print(\"Longest length is:\\n\",salaries_df.company_size.str.len().max())\n"
   ]
  },
  {
   "cell_type": "code",
   "execution_count": 21,
   "id": "eb7731be",
   "metadata": {},
   "outputs": [
    {
     "data": {
      "text/plain": [
       "Index(['work_year', 'experience_level', 'employment_type', 'job_title',\n",
       "       'salary', 'salary_currency', 'salary_in_usd', 'employee_residence',\n",
       "       'remote_ratio', 'company_location', 'company_size'],\n",
       "      dtype='object')"
      ]
     },
     "execution_count": 21,
     "metadata": {},
     "output_type": "execute_result"
    }
   ],
   "source": [
    "salaries_df.columns"
   ]
  },
  {
   "cell_type": "markdown",
   "id": "f4cea328",
   "metadata": {},
   "source": [
    "__add the index column as a unique identifier for the table primary key__"
   ]
  },
  {
   "cell_type": "code",
   "execution_count": 24,
   "id": "c0063fb3",
   "metadata": {
    "scrolled": true
   },
   "outputs": [
    {
     "data": {
      "text/html": [
       "<div>\n",
       "<style scoped>\n",
       "    .dataframe tbody tr th:only-of-type {\n",
       "        vertical-align: middle;\n",
       "    }\n",
       "\n",
       "    .dataframe tbody tr th {\n",
       "        vertical-align: top;\n",
       "    }\n",
       "\n",
       "    .dataframe thead th {\n",
       "        text-align: right;\n",
       "    }\n",
       "</style>\n",
       "<table border=\"1\" class=\"dataframe\">\n",
       "  <thead>\n",
       "    <tr style=\"text-align: right;\">\n",
       "      <th></th>\n",
       "      <th>index</th>\n",
       "      <th>work_year</th>\n",
       "      <th>experience_level</th>\n",
       "      <th>employment_type</th>\n",
       "      <th>job_title</th>\n",
       "      <th>salary</th>\n",
       "      <th>salary_currency</th>\n",
       "      <th>salary_in_usd</th>\n",
       "      <th>employee_residence</th>\n",
       "      <th>remote_ratio</th>\n",
       "      <th>company_location</th>\n",
       "      <th>company_size</th>\n",
       "    </tr>\n",
       "  </thead>\n",
       "  <tbody>\n",
       "    <tr>\n",
       "      <th>0</th>\n",
       "      <td>0</td>\n",
       "      <td>2023</td>\n",
       "      <td>SE</td>\n",
       "      <td>FT</td>\n",
       "      <td>Principal Data Scientist</td>\n",
       "      <td>80000</td>\n",
       "      <td>EUR</td>\n",
       "      <td>85847</td>\n",
       "      <td>ES</td>\n",
       "      <td>100</td>\n",
       "      <td>ES</td>\n",
       "      <td>L</td>\n",
       "    </tr>\n",
       "    <tr>\n",
       "      <th>1</th>\n",
       "      <td>1</td>\n",
       "      <td>2023</td>\n",
       "      <td>MI</td>\n",
       "      <td>CT</td>\n",
       "      <td>ML Engineer</td>\n",
       "      <td>30000</td>\n",
       "      <td>USD</td>\n",
       "      <td>30000</td>\n",
       "      <td>US</td>\n",
       "      <td>100</td>\n",
       "      <td>US</td>\n",
       "      <td>S</td>\n",
       "    </tr>\n",
       "    <tr>\n",
       "      <th>2</th>\n",
       "      <td>2</td>\n",
       "      <td>2023</td>\n",
       "      <td>MI</td>\n",
       "      <td>CT</td>\n",
       "      <td>ML Engineer</td>\n",
       "      <td>25500</td>\n",
       "      <td>USD</td>\n",
       "      <td>25500</td>\n",
       "      <td>US</td>\n",
       "      <td>100</td>\n",
       "      <td>US</td>\n",
       "      <td>S</td>\n",
       "    </tr>\n",
       "    <tr>\n",
       "      <th>3</th>\n",
       "      <td>3</td>\n",
       "      <td>2023</td>\n",
       "      <td>SE</td>\n",
       "      <td>FT</td>\n",
       "      <td>Data Scientist</td>\n",
       "      <td>175000</td>\n",
       "      <td>USD</td>\n",
       "      <td>175000</td>\n",
       "      <td>CA</td>\n",
       "      <td>100</td>\n",
       "      <td>CA</td>\n",
       "      <td>M</td>\n",
       "    </tr>\n",
       "    <tr>\n",
       "      <th>4</th>\n",
       "      <td>4</td>\n",
       "      <td>2023</td>\n",
       "      <td>SE</td>\n",
       "      <td>FT</td>\n",
       "      <td>Data Scientist</td>\n",
       "      <td>120000</td>\n",
       "      <td>USD</td>\n",
       "      <td>120000</td>\n",
       "      <td>CA</td>\n",
       "      <td>100</td>\n",
       "      <td>CA</td>\n",
       "      <td>M</td>\n",
       "    </tr>\n",
       "    <tr>\n",
       "      <th>...</th>\n",
       "      <td>...</td>\n",
       "      <td>...</td>\n",
       "      <td>...</td>\n",
       "      <td>...</td>\n",
       "      <td>...</td>\n",
       "      <td>...</td>\n",
       "      <td>...</td>\n",
       "      <td>...</td>\n",
       "      <td>...</td>\n",
       "      <td>...</td>\n",
       "      <td>...</td>\n",
       "      <td>...</td>\n",
       "    </tr>\n",
       "    <tr>\n",
       "      <th>3750</th>\n",
       "      <td>3750</td>\n",
       "      <td>2020</td>\n",
       "      <td>SE</td>\n",
       "      <td>FT</td>\n",
       "      <td>Data Scientist</td>\n",
       "      <td>412000</td>\n",
       "      <td>USD</td>\n",
       "      <td>412000</td>\n",
       "      <td>US</td>\n",
       "      <td>100</td>\n",
       "      <td>US</td>\n",
       "      <td>L</td>\n",
       "    </tr>\n",
       "    <tr>\n",
       "      <th>3751</th>\n",
       "      <td>3751</td>\n",
       "      <td>2021</td>\n",
       "      <td>MI</td>\n",
       "      <td>FT</td>\n",
       "      <td>Principal Data Scientist</td>\n",
       "      <td>151000</td>\n",
       "      <td>USD</td>\n",
       "      <td>151000</td>\n",
       "      <td>US</td>\n",
       "      <td>100</td>\n",
       "      <td>US</td>\n",
       "      <td>L</td>\n",
       "    </tr>\n",
       "    <tr>\n",
       "      <th>3752</th>\n",
       "      <td>3752</td>\n",
       "      <td>2020</td>\n",
       "      <td>EN</td>\n",
       "      <td>FT</td>\n",
       "      <td>Data Scientist</td>\n",
       "      <td>105000</td>\n",
       "      <td>USD</td>\n",
       "      <td>105000</td>\n",
       "      <td>US</td>\n",
       "      <td>100</td>\n",
       "      <td>US</td>\n",
       "      <td>S</td>\n",
       "    </tr>\n",
       "    <tr>\n",
       "      <th>3753</th>\n",
       "      <td>3753</td>\n",
       "      <td>2020</td>\n",
       "      <td>EN</td>\n",
       "      <td>CT</td>\n",
       "      <td>Business Data Analyst</td>\n",
       "      <td>100000</td>\n",
       "      <td>USD</td>\n",
       "      <td>100000</td>\n",
       "      <td>US</td>\n",
       "      <td>100</td>\n",
       "      <td>US</td>\n",
       "      <td>L</td>\n",
       "    </tr>\n",
       "    <tr>\n",
       "      <th>3754</th>\n",
       "      <td>3754</td>\n",
       "      <td>2021</td>\n",
       "      <td>SE</td>\n",
       "      <td>FT</td>\n",
       "      <td>Data Science Manager</td>\n",
       "      <td>7000000</td>\n",
       "      <td>INR</td>\n",
       "      <td>94665</td>\n",
       "      <td>IN</td>\n",
       "      <td>50</td>\n",
       "      <td>IN</td>\n",
       "      <td>L</td>\n",
       "    </tr>\n",
       "  </tbody>\n",
       "</table>\n",
       "<p>3755 rows × 12 columns</p>\n",
       "</div>"
      ],
      "text/plain": [
       "      index  work_year experience_level employment_type  \\\n",
       "0         0       2023               SE              FT   \n",
       "1         1       2023               MI              CT   \n",
       "2         2       2023               MI              CT   \n",
       "3         3       2023               SE              FT   \n",
       "4         4       2023               SE              FT   \n",
       "...     ...        ...              ...             ...   \n",
       "3750   3750       2020               SE              FT   \n",
       "3751   3751       2021               MI              FT   \n",
       "3752   3752       2020               EN              FT   \n",
       "3753   3753       2020               EN              CT   \n",
       "3754   3754       2021               SE              FT   \n",
       "\n",
       "                     job_title   salary salary_currency  salary_in_usd  \\\n",
       "0     Principal Data Scientist    80000             EUR          85847   \n",
       "1                  ML Engineer    30000             USD          30000   \n",
       "2                  ML Engineer    25500             USD          25500   \n",
       "3               Data Scientist   175000             USD         175000   \n",
       "4               Data Scientist   120000             USD         120000   \n",
       "...                        ...      ...             ...            ...   \n",
       "3750            Data Scientist   412000             USD         412000   \n",
       "3751  Principal Data Scientist   151000             USD         151000   \n",
       "3752            Data Scientist   105000             USD         105000   \n",
       "3753     Business Data Analyst   100000             USD         100000   \n",
       "3754      Data Science Manager  7000000             INR          94665   \n",
       "\n",
       "     employee_residence  remote_ratio company_location company_size  \n",
       "0                    ES           100               ES            L  \n",
       "1                    US           100               US            S  \n",
       "2                    US           100               US            S  \n",
       "3                    CA           100               CA            M  \n",
       "4                    CA           100               CA            M  \n",
       "...                 ...           ...              ...          ...  \n",
       "3750                 US           100               US            L  \n",
       "3751                 US           100               US            L  \n",
       "3752                 US           100               US            S  \n",
       "3753                 US           100               US            L  \n",
       "3754                 IN            50               IN            L  \n",
       "\n",
       "[3755 rows x 12 columns]"
      ]
     },
     "execution_count": 24,
     "metadata": {},
     "output_type": "execute_result"
    }
   ],
   "source": [
    "salaries_df.reset_index()"
   ]
  },
  {
   "cell_type": "markdown",
   "id": "3e5aa45d",
   "metadata": {},
   "source": [
    "__export the df to csv__"
   ]
  },
  {
   "cell_type": "code",
   "execution_count": 26,
   "id": "477effeb",
   "metadata": {},
   "outputs": [],
   "source": [
    "salaries_df.to_csv('ds_salaries_2.csv')"
   ]
  },
  {
   "cell_type": "code",
   "execution_count": 27,
   "id": "e7605490",
   "metadata": {},
   "outputs": [],
   "source": [
    "salaries_df_2 = pd.read_csv('ds_salaries_2.csv')"
   ]
  },
  {
   "cell_type": "code",
   "execution_count": null,
   "id": "b533f6c2",
   "metadata": {},
   "outputs": [],
   "source": [
    "salaries_df_2.head"
   ]
  },
  {
   "cell_type": "markdown",
   "id": "460a12f7",
   "metadata": {},
   "source": [
    "what is the highest salary?"
   ]
  },
  {
   "cell_type": "markdown",
   "id": "8adbe707",
   "metadata": {},
   "source": [
    " select MAX(salary) from data_science_salaries;\n",
    "   max    \n",
    "----------\n",
    " 30400000\n",
    "(1 row)\n"
   ]
  },
  {
   "cell_type": "markdown",
   "id": "537c7186",
   "metadata": {},
   "source": [
    "who makes 30 million? "
   ]
  },
  {
   "cell_type": "markdown",
   "id": "b00b05d7",
   "metadata": {},
   "source": [
    "one person makes 30.4 and 2 seemingly identical or even steven partners each make 11M "
   ]
  },
  {
   "cell_type": "code",
   "execution_count": null,
   "id": "c8cbdd0a",
   "metadata": {},
   "outputs": [],
   "source": [
    "SELECT work_year, job_title, salary, company_size, experience_level, employee_residence                                                                                                      FROM data_science_salaries                                                                                                                                                                                WHERE salary > 9000000;\n",
    " work_year |    job_title    |  salary  | company_size | experience_level | employee_residence \n",
    "-----------+-----------------+----------+--------------+------------------+--------------------\n",
    "      2021 | BI Data Analyst | 11000000 | L            | MI               | HU\n",
    "      2020 | Data Scientist  | 11000000 | L            | MI               | HU\n",
    "      2021 | Data Scientist  | 30400000 | L            | MI               | CL\n",
    "(3 rows)\n"
   ]
  },
  {
   "cell_type": "markdown",
   "id": "d6793ee3",
   "metadata": {},
   "source": [
    "what are the distinct job titles?"
   ]
  },
  {
   "cell_type": "code",
   "execution_count": null,
   "id": "b170a918",
   "metadata": {},
   "outputs": [],
   "source": [
    "SELECT COUNT ( DISTINCT job_title ) AS \"distinct job titles\"\n",
    "FROM data_science_salaries;"
   ]
  },
  {
   "cell_type": "markdown",
   "id": "7e7da3ed",
   "metadata": {},
   "source": [
    "__93__"
   ]
  },
  {
   "cell_type": "markdown",
   "id": "b1514146",
   "metadata": {},
   "source": [
    "what are the higest 20 salaries by job title?"
   ]
  },
  {
   "cell_type": "code",
   "execution_count": null,
   "id": "f09bc19f",
   "metadata": {},
   "outputs": [],
   "source": [
    "             job_title              |    average_salary    \n",
    "------------------------------------+----------------------\n",
    " Head of Machine Learning           | 6000000.000000000000\n",
    " Principal Data Architect           | 3000000.000000000000\n",
    " Lead Machine Learning Engineer     | 2548666.666666666667\n",
    " Lead Data Scientist                |  928485.333333333333\n",
    " Data Analytics Lead                |  922500.000000000000\n",
    " BI Data Analyst                    |  836644.800000000000\n",
    " Head of Data Science               |  703729.444444444444\n",
    " Lead Data Analyst                  |  655000.000000000000\n",
    " ML Engineer                        |  609997.911764705882\n",
    " Product Data Analyst               |  412000.000000000000\n",
    " Power BI Developer                 |  400000.000000000000\n",
    " Data Science Manager               |  379390.413793103448\n",
    " Data Science Tech Lead             |  375000.000000000000\n",
    " Big Data Engineer                  |  365909.090909090909\n",
    " Applied Machine Learning Scientist |  306233.333333333333\n",
    " Applied Data Scientist             |  283200.000000000000\n",
    " AI Scientist                       |  275312.500000000000\n",
    " Machine Learning Research Engineer |  260750.000000000000\n",
    " Business Data Analyst              |  256200.000000000000\n",
    " Cloud Data Architect               |  250000.000000000000\n",
    "(20 rows)\n"
   ]
  },
  {
   "cell_type": "code",
   "execution_count": null,
   "id": "0e0c5bbe",
   "metadata": {},
   "outputs": [],
   "source": [
    "# find if there are any product manager roles listed\n",
    "\n",
    "SELECT * \n",
    "FROM data_science_salaries\n",
    "WHERE job_title like '%Product Manager%'\n",
    "LIMIT 11;\n",
    "\n",
    "SELECT *\n",
    "FROM data_science_salaries\n",
    "WHERE job_title LIKE '%Manager%'\n",
    "LIMIT 11;\n",
    "\n",
    "\n",
    "\n",
    "# by avg salary with nore than 1 listing in the data\n",
    "SELECT job_title, AVG(salary) AS average_salary, COUNT(job_title) AS job_count\n",
    "FROM data_science_salaries\n",
    "GROUP BY job_title\n",
    "HAVING COUNT(job_title) > 1\n",
    "ORDER BY average_salary DESC\n",
    "LIMIT 20;\n"
   ]
  },
  {
   "cell_type": "code",
   "execution_count": null,
   "id": "4d57bd3c",
   "metadata": {},
   "outputs": [],
   "source": []
  },
  {
   "cell_type": "code",
   "execution_count": null,
   "id": "0f50ec11",
   "metadata": {},
   "outputs": [],
   "source": [
    "SELECT job_title, AVG(salary) AS average_salary, COUNT(job_title) AS job_count\n",
    "FROM data_science_salaries\n",
    "WHERE job_title LIKE '%Principal%'\n",
    "GROUP BY job_title\n",
    "HAVING COUNT(job_title) > 1;\n",
    "\n",
    "\n",
    "SELECT job_title, AVG(salary) AS average_salary, COUNT(job_title) AS job_count\n",
    "FROM data_science_salaries\n",
    "WHERE job_title LIKE '%Data Scientist%'\n",
    "GROUP BY job_title\n",
    "HAVING COUNT(job_title) > 1;"
   ]
  },
  {
   "cell_type": "markdown",
   "id": "70fb0656",
   "metadata": {},
   "source": [
    "25th percentile of data scientist salaries?"
   ]
  },
  {
   "cell_type": "code",
   "execution_count": null,
   "id": "c6eae82e",
   "metadata": {},
   "outputs": [],
   "source": [
    "SELECT PERCENTILE_CONT(0.25) WITHIN GROUP (ORDER BY salary) AS percentile_25\n",
    "FROM data_science_salaries\n",
    "WHERE job_title = 'Data Scientist';\n"
   ]
  },
  {
   "cell_type": "code",
   "execution_count": null,
   "id": "f86c18bd",
   "metadata": {},
   "outputs": [],
   "source": [
    "percentile_25 \n",
    "---------------\n",
    "        107750\n"
   ]
  },
  {
   "cell_type": "code",
   "execution_count": null,
   "id": "0b696806",
   "metadata": {},
   "outputs": [],
   "source": [
    "SELECT PERCENTILE_CONT(0.80) WITHIN GROUP (ORDER BY salary) AS percentile_80\n",
    "FROM data_science_salaries\n",
    "WHERE job_title = 'Data Scientist';"
   ]
  },
  {
   "cell_type": "code",
   "execution_count": null,
   "id": "4259356f",
   "metadata": {},
   "outputs": [],
   "source": [
    " percentile_80 \n",
    "---------------\n",
    "        191475"
   ]
  },
  {
   "cell_type": "markdown",
   "id": "61543c8f",
   "metadata": {},
   "source": [
    "mean, median, mode"
   ]
  },
  {
   "cell_type": "code",
   "execution_count": null,
   "id": "fdabc2f5",
   "metadata": {},
   "outputs": [],
   "source": [
    "SELECT AVG(salary) AS mean_salary\n",
    "FROM data_science_salaries;\n"
   ]
  },
  {
   "cell_type": "code",
   "execution_count": null,
   "id": "e4305a2a",
   "metadata": {},
   "outputs": [],
   "source": [
    "     mean_salary     \n",
    "---------------------\n",
    " 190695.571770972037\n"
   ]
  },
  {
   "cell_type": "markdown",
   "id": "667d928d",
   "metadata": {},
   "source": [
    "round that shit off"
   ]
  },
  {
   "cell_type": "code",
   "execution_count": null,
   "id": "522ba827",
   "metadata": {},
   "outputs": [],
   "source": [
    "SELECT ROUND(AVG(salary)) AS mean_salary\n",
    "FROM data_science_salaries;\n"
   ]
  },
  {
   "cell_type": "code",
   "execution_count": null,
   "id": "aef93668",
   "metadata": {},
   "outputs": [],
   "source": [
    " mean_salary \n",
    "-------------\n",
    "      190696"
   ]
  },
  {
   "cell_type": "code",
   "execution_count": null,
   "id": "a67df79a",
   "metadata": {},
   "outputs": [],
   "source": [
    "SELECT percentile_cont(0.5) WITHIN GROUP (ORDER BY salary) AS median_salary\n",
    "FROM data_science_salaries;\n"
   ]
  },
  {
   "cell_type": "code",
   "execution_count": null,
   "id": "f067a4b1",
   "metadata": {},
   "outputs": [],
   "source": [
    " median_salary \n",
    "---------------\n",
    "        138000"
   ]
  },
  {
   "cell_type": "code",
   "execution_count": null,
   "id": "2d0b537d",
   "metadata": {},
   "outputs": [],
   "source": [
    "SELECT salary, COUNT(*) AS frequency\n",
    "FROM data_science_salaries\n",
    "GROUP BY salary\n",
    "HAVING COUNT(*) = (\n",
    "    SELECT MAX(count) \n",
    "    FROM (\n",
    "        SELECT salary, COUNT(*) AS count\n",
    "        FROM data_science_salaries\n",
    "        GROUP BY salary\n",
    "    ) AS counts\n",
    ");\n"
   ]
  },
  {
   "cell_type": "code",
   "execution_count": null,
   "id": "41de1fac",
   "metadata": {},
   "outputs": [],
   "source": [
    " salary | frequency \n",
    "--------+-----------\n",
    " 100000 |       112"
   ]
  },
  {
   "cell_type": "markdown",
   "id": "764f3ecb",
   "metadata": {},
   "source": [
    "whats the average difference between salary and salary_in_usd? "
   ]
  },
  {
   "cell_type": "code",
   "execution_count": null,
   "id": "f85ef5c6",
   "metadata": {},
   "outputs": [],
   "source": [
    "SELECT ROUND(AVG(salary - salary_in_usd)) AS average_difference\n",
    "FROM data_science_salaries;\n"
   ]
  },
  {
   "cell_type": "code",
   "execution_count": null,
   "id": "5d5292b3",
   "metadata": {},
   "outputs": [],
   "source": [
    " average_difference \n",
    "--------------------\n",
    "              53125"
   ]
  },
  {
   "cell_type": "markdown",
   "id": "47301bc1",
   "metadata": {},
   "source": [
    "whaaa? aha shoulda been using salary_in_usd the whole time"
   ]
  },
  {
   "cell_type": "code",
   "execution_count": null,
   "id": "4884b04d",
   "metadata": {},
   "outputs": [],
   "source": [
    "SELECT ROUND(AVG(salary_in_usd)) AS mean_salary\n",
    "FROM data_science_salaries;\n"
   ]
  },
  {
   "cell_type": "code",
   "execution_count": null,
   "id": "d8ecae86",
   "metadata": {},
   "outputs": [],
   "source": [
    " mean_salary \n",
    "-------------\n",
    "      137570"
   ]
  },
  {
   "cell_type": "code",
   "execution_count": null,
   "id": "b8f7f50d",
   "metadata": {},
   "outputs": [],
   "source": [
    "SELECT percentile_cont(0.5) WITHIN GROUP (ORDER BY salary_in_usd) AS median_salary\n",
    "FROM data_science_salaries;\n"
   ]
  },
  {
   "cell_type": "code",
   "execution_count": null,
   "id": "b08a5efc",
   "metadata": {},
   "outputs": [],
   "source": [
    " median_salary \n",
    "---------------\n",
    "        135000"
   ]
  },
  {
   "cell_type": "code",
   "execution_count": null,
   "id": "f1caabef",
   "metadata": {},
   "outputs": [],
   "source": [
    "SELECT salary_in_usd, COUNT(*) AS frequency\n",
    "FROM data_science_salaries\n",
    "GROUP BY salary_in_usd\n",
    "HAVING COUNT(*) = (\n",
    "    SELECT MAX(count) \n",
    "    FROM (\n",
    "        SELECT salary_in_usd, COUNT(*) AS count\n",
    "        FROM data_science_salaries\n",
    "        GROUP BY salary_in_usd\n",
    "    ) AS counts\n",
    ");"
   ]
  },
  {
   "cell_type": "code",
   "execution_count": null,
   "id": "43cdd4a1",
   "metadata": {},
   "outputs": [],
   "source": [
    " salary_in_usd | frequency \n",
    "---------------+-----------\n",
    "        100000 |        99"
   ]
  },
  {
   "cell_type": "code",
   "execution_count": null,
   "id": "575d253d",
   "metadata": {},
   "outputs": [],
   "source": []
  },
  {
   "cell_type": "code",
   "execution_count": null,
   "id": "46226c63",
   "metadata": {},
   "outputs": [],
   "source": [
    "SELECT \n",
    "  company_location, \n",
    "  ROUND(PERCENTILE_CONT(0.8) WITHIN GROUP (ORDER BY salary_in_usd)) AS percentile_80,\n",
    "  ROUND(PERCENTILE_CONT(0.5) WITHIN GROUP (ORDER BY salary_in_usd)) AS median\n",
    "FROM data_science_salaries\n",
    "GROUP BY company_location\n",
    "ORDER BY percentile_80 desc\n",
    "LIMIT 20;"
   ]
  },
  {
   "cell_type": "code",
   "execution_count": null,
   "id": "6323b1aa",
   "metadata": {},
   "outputs": [],
   "source": []
  },
  {
   "cell_type": "code",
   "execution_count": null,
   "id": "4fbcd4ff",
   "metadata": {},
   "outputs": [],
   "source": [
    " company_location |         job_title          | percentile_80 | median | count \n",
    "------------------+----------------------------+---------------+--------+-------\n",
    " US               | Data Science Manager       |        245100 | 190982 |    52\n",
    " US               | ML Engineer                |        234640 | 181500 |    28\n",
    " US               | Computer Vision Engineer   |        232000 | 205000 |    12\n",
    " US               | Applied Scientist          |        222200 | 191738 |    58\n",
    " US               | Machine Learning Scientist |        220000 | 170000 |    21\n",
    " US               | Research Scientist         |        210000 | 151800 |    58\n",
    " US               | Machine Learning Engineer  |        204500 | 164996 |   219\n",
    " US               | Research Engineer          |        203000 | 155000 |    31\n",
    " US               | Analytics Engineer         |        200000 | 151000 |    92\n",
    " US               | Data Engineer              |        195700 | 145000 |   907\n",
    " US               | Data Architect             |        194833 | 160000 |    97\n",
    " US               | Data Scientist             |        191475 | 152000 |   674\n",
    " CA               | Data Scientist             |        190000 | 120000 |    21\n",
    " US               | Data Specialist            |        155220 | 110000 |    14\n",
    " US               | Data Analytics Manager     |        155000 | 140000 |    21\n",
    " US               | Data Analyst               |        150000 | 110600 |   525\n",
    " US               | Data Manager               |        146000 | 120000 |    24\n",
    " US               | BI Developer               |        140000 | 130000 |    13\n",
    " US               | Data Science Consultant    |        132400 | 122000 |    14\n",
    " CA               | Data Analyst               |        130000 |  80000 |    16\n",
    "(20 rows)\n"
   ]
  },
  {
   "cell_type": "code",
   "execution_count": null,
   "id": "48a6a8d9",
   "metadata": {},
   "outputs": [],
   "source": [
    "# top 5 countries with more than a dozen entries \n",
    "\n",
    "SELECT \n",
    "  company_location, \n",
    "  ROUND(PERCENTILE_CONT(0.8) WITHIN GROUP (ORDER BY salary_in_usd)) AS percentile_80,\n",
    "  ROUND(PERCENTILE_CONT(0.5) WITHIN GROUP (ORDER BY salary_in_usd)) AS median,\n",
    "  COUNT(company_location) as count\n",
    "FROM data_science_salaries\n",
    "GROUP BY company_location\n",
    "HAVING COUNT(company_location) > 12\n",
    "ORDER BY percentile_80 desc\n",
    "LIMIT 20;"
   ]
  },
  {
   "cell_type": "code",
   "execution_count": null,
   "id": "1843b815",
   "metadata": {},
   "outputs": [],
   "source": [
    " company_location | percentile_80 | median | count \n",
    "------------------+---------------+--------+-------\n",
    " US               |        195000 | 145000 |  3040\n",
    " CA               |        186920 | 120000 |    87\n",
    " DE               |        123405 |  72722 |    56\n",
    " GB               |        109371 |  79513 |   172\n",
    " AU               |        103825 |  72525 |    14\n",
    " NL               |         98631 |  73546 |    13\n",
    " FR               |         86154 |  58970 |    34\n",
    " BR               |         78000 |  42000 |    15\n",
    " GR               |         73546 |  50216 |    14\n",
    " PT               |         69507 |  52932 |    14\n",
    " ES               |         68293 |  47280 |    77\n",
    " IN               |         34889 |  18276 |    58\n",
    "(12 rows)\n"
   ]
  }
 ],
 "metadata": {
  "kernelspec": {
   "display_name": "Python 3 (ipykernel)",
   "language": "python",
   "name": "python3"
  },
  "language_info": {
   "codemirror_mode": {
    "name": "ipython",
    "version": 3
   },
   "file_extension": ".py",
   "mimetype": "text/x-python",
   "name": "python",
   "nbconvert_exporter": "python",
   "pygments_lexer": "ipython3",
   "version": "3.9.13"
  }
 },
 "nbformat": 4,
 "nbformat_minor": 5
}
